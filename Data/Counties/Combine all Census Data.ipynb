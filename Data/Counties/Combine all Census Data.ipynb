{
 "cells": [
  {
   "cell_type": "code",
   "execution_count": 24,
   "metadata": {},
   "outputs": [],
   "source": [
    "import os\n",
    "import glob\n",
    "import pandas as pd"
   ]
  },
  {
   "cell_type": "code",
   "execution_count": 25,
   "metadata": {},
   "outputs": [],
   "source": [
    "#Setup Import of all CSV Files in current folder.\n",
    "extension = 'csv'\n",
    "all_filenames = [i for i in glob.glob('*.{}'.format(extension))]"
   ]
  },
  {
   "cell_type": "code",
   "execution_count": 26,
   "metadata": {},
   "outputs": [
    {
     "data": {
      "text/plain": [
       "['cc-est2019-agesex-13.csv',\n",
       " 'cc-est2019-agesex-12.csv',\n",
       " 'cc-est2019-agesex-06.csv',\n",
       " 'cc-est2019-agesex-38.csv',\n",
       " 'cc-est2019-agesex-10.csv',\n",
       " 'cc-est2019-agesex-04.csv',\n",
       " 'cc-est2019-agesex-05.csv',\n",
       " 'cc-est2019-agesex-11.csv',\n",
       " 'cc-est2019-agesex-39.csv',\n",
       " 'cc-est2019-agesex-15.csv',\n",
       " 'cc-est2019-agesex-01.csv',\n",
       " 'cc-est2019-agesex-29.csv',\n",
       " 'cc-est2019-agesex-28.csv',\n",
       " 'cc-est2019-agesex-02.csv',\n",
       " 'cc-est2019-agesex-16.csv',\n",
       " 'cc-est2019-agesex-17.csv',\n",
       " 'cc-est2019-agesex-49.csv',\n",
       " 'cc-est2019-agesex-48.csv',\n",
       " 'cc-est2019-agesex-45.csv',\n",
       " 'cc-est2019-agesex-51.csv',\n",
       " 'cc-est2019-agesex-50.csv',\n",
       " 'cc-est2019-agesex-44.csv',\n",
       " 'cc-est2019-agesex-46.csv',\n",
       " 'cc-est2019-agesex-47.csv',\n",
       " 'cc-est2019-agesex-53.csv',\n",
       " 'cc-est2019-agesex-42.csv',\n",
       " 'cc-est2019-agesex-56.csv',\n",
       " 'cc-est2019-agesex-40.csv',\n",
       " 'cc-est2019-agesex-54.csv',\n",
       " 'cc-est2019-agesex-55.csv',\n",
       " 'cc-est2019-agesex-41.csv',\n",
       " 'cc-est2019-agesex-26.csv',\n",
       " 'cc-est2019-agesex-32.csv',\n",
       " 'cc-est2019-agesex-33.csv',\n",
       " 'cc-est2019-agesex-27.csv',\n",
       " 'cc-est2019-agesex-19.csv',\n",
       " 'cc-est2019-agesex-31.csv',\n",
       " 'cc-est2019-agesex-25.csv',\n",
       " 'cc-est2019-agesex-24.csv',\n",
       " 'cc-est2019-agesex-30.csv',\n",
       " 'cc-est2019-agesex-18.csv',\n",
       " 'cc-est2019-agesex-34.csv',\n",
       " 'cc-est2019-agesex-20.csv',\n",
       " 'cc-est2019-agesex-08.csv',\n",
       " 'cc-est2019-agesex-09.csv',\n",
       " 'cc-est2019-agesex-21.csv',\n",
       " 'cc-est2019-agesex-35.csv',\n",
       " 'cc-est2019-agesex-23.csv',\n",
       " 'cc-est2019-agesex-37.csv',\n",
       " 'cc-est2019-agesex-36.csv',\n",
       " 'cc-est2019-agesex-22.csv']"
      ]
     },
     "execution_count": 26,
     "metadata": {},
     "output_type": "execute_result"
    }
   ],
   "source": [
    "all_filenames"
   ]
  },
  {
   "cell_type": "code",
   "execution_count": 27,
   "metadata": {},
   "outputs": [],
   "source": [
    "#combine all files in the list\n",
    "#Adjust encoding to match file input type.\n",
    "combined_csv = pd.concat([pd.read_csv(f, dtype=str, encoding=\"ISO-8859-1\") for f in all_filenames ])\n",
    "#export to csv\n",
    "combined_csv.to_csv( \"combined_csv.csv\", index=False, encoding=\"ISO-8859-1\")"
   ]
  },
  {
   "cell_type": "code",
   "execution_count": null,
   "metadata": {},
   "outputs": [],
   "source": []
  }
 ],
 "metadata": {
  "kernelspec": {
   "display_name": "PythonData",
   "language": "python",
   "name": "pythondata"
  },
  "language_info": {
   "codemirror_mode": {
    "name": "ipython",
    "version": 3
   },
   "file_extension": ".py",
   "mimetype": "text/x-python",
   "name": "python",
   "nbconvert_exporter": "python",
   "pygments_lexer": "ipython3",
   "version": "3.7.6"
  }
 },
 "nbformat": 4,
 "nbformat_minor": 4
}
